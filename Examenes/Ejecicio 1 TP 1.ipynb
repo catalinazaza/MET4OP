{
 "cells": [
  {
   "cell_type": "code",
   "execution_count": 1,
   "id": "7407bcc8",
   "metadata": {},
   "outputs": [],
   "source": [
    "import numpy"
   ]
  },
  {
   "cell_type": "code",
   "execution_count": 22,
   "id": "5cdbe90d",
   "metadata": {},
   "outputs": [],
   "source": [
    "def primo_x (x): \n",
    "    pencontrados=0\n",
    "    n= 2 \n",
    "    while pencontrados <x: \n",
    "        primo=True\n",
    "        for i in range (2,n):\n",
    "            if int (n/i)==(n/i): \n",
    "                primo=False\n",
    "                break \n",
    "        if primo:\n",
    "            pencontrados= pencontrados +1 \n",
    "        n= n+1      \n",
    "    return n-1 "
   ]
  },
  {
   "cell_type": "code",
   "execution_count": 28,
   "id": "1fe1b49b",
   "metadata": {},
   "outputs": [
    {
     "data": {
      "text/plain": [
       "7919"
      ]
     },
     "execution_count": 28,
     "metadata": {},
     "output_type": "execute_result"
    }
   ],
   "source": [
    "primo_x (1000)"
   ]
  }
 ],
 "metadata": {
  "kernelspec": {
   "display_name": "Python 3",
   "language": "python",
   "name": "python3"
  },
  "language_info": {
   "codemirror_mode": {
    "name": "ipython",
    "version": 3
   },
   "file_extension": ".py",
   "mimetype": "text/x-python",
   "name": "python",
   "nbconvert_exporter": "python",
   "pygments_lexer": "ipython3",
   "version": "3.8.8"
  }
 },
 "nbformat": 4,
 "nbformat_minor": 5
}
