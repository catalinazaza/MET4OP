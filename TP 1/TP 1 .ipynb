{
 "cells": [
  {
   "cell_type": "code",
   "execution_count": 1,
   "id": "7407bcc8",
   "metadata": {},
   "outputs": [],
   "source": [
    "import numpy"
   ]
  },
  {
   "cell_type": "code",
   "execution_count": 17,
   "id": "3c796a74",
   "metadata": {},
   "outputs": [],
   "source": [
    "def primo (n): \n",
    "    if n==1: \n",
    "        return False\n",
    "    for i in range (2,n):\n",
    "        if int (n/i)==(n/i): \n",
    "            return False\n",
    "    return True"
   ]
  },
  {
   "cell_type": "code",
   "execution_count": 10,
   "id": "c2904b03",
   "metadata": {},
   "outputs": [
    {
     "data": {
      "text/plain": [
       "True"
      ]
     },
     "execution_count": 10,
     "metadata": {},
     "output_type": "execute_result"
    }
   ],
   "source": [
    "primo (5)"
   ]
  },
  {
   "cell_type": "code",
   "execution_count": 13,
   "id": "62257ee2",
   "metadata": {},
   "outputs": [
    {
     "data": {
      "text/plain": [
       "False"
      ]
     },
     "execution_count": 13,
     "metadata": {},
     "output_type": "execute_result"
    }
   ],
   "source": [
    "primo (10)"
   ]
  },
  {
   "cell_type": "code",
   "execution_count": 18,
   "id": "6e382754",
   "metadata": {},
   "outputs": [
    {
     "data": {
      "text/plain": [
       "False"
      ]
     },
     "execution_count": 18,
     "metadata": {},
     "output_type": "execute_result"
    }
   ],
   "source": [
    "primo (1)"
   ]
  },
  {
   "cell_type": "code",
   "execution_count": 30,
   "id": "5cdbe90d",
   "metadata": {},
   "outputs": [],
   "source": [
    "def primo_x (x): \n",
    "    pencontrados=0\n",
    "    i= 1 \n",
    "    while pencontrados <x: \n",
    "        if primo (i):     \n",
    "            pencontrados= pencontrados +1 \n",
    "        i= i+1      \n",
    "    return i-1 "
   ]
  },
  {
   "cell_type": "code",
   "execution_count": 31,
   "id": "d663db6e",
   "metadata": {
    "scrolled": true
   },
   "outputs": [
    {
     "data": {
      "text/plain": [
       "13"
      ]
     },
     "execution_count": 31,
     "metadata": {},
     "output_type": "execute_result"
    }
   ],
   "source": [
    "primo_x (6)"
   ]
  },
  {
   "cell_type": "code",
   "execution_count": 33,
   "id": "e9407d2d",
   "metadata": {},
   "outputs": [
    {
     "data": {
      "text/plain": [
       "7919"
      ]
     },
     "execution_count": 33,
     "metadata": {},
     "output_type": "execute_result"
    }
   ],
   "source": [
    "primo_x (1000)\n"
   ]
  }
 ],
 "metadata": {
  "kernelspec": {
   "display_name": "Python 3",
   "language": "python",
   "name": "python3"
  },
  "language_info": {
   "codemirror_mode": {
    "name": "ipython",
    "version": 3
   },
   "file_extension": ".py",
   "mimetype": "text/x-python",
   "name": "python",
   "nbconvert_exporter": "python",
   "pygments_lexer": "ipython3",
   "version": "3.8.8"
  }
 },
 "nbformat": 4,
 "nbformat_minor": 5
}
